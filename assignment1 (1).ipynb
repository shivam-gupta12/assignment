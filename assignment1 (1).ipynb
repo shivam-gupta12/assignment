{
 "cells": [
  {
   "cell_type": "code",
   "execution_count": null,
   "id": "a7e50a9f-1e41-4d76-90df-9eca1fb2b06e",
   "metadata": {},
   "outputs": [],
   "source": [
    "question 1- Guido van Rossum developed python programming language."
   ]
  },
  {
   "cell_type": "code",
   "execution_count": null,
   "id": "1113f65a-a6e6-423a-bf69-4b21652d9def",
   "metadata": {},
   "outputs": [],
   "source": [
    "question 2- Python is an interpreted programming language, supporting object-oriented, structured, and functional programming.\n"
   ]
  },
  {
   "cell_type": "code",
   "execution_count": null,
   "id": "63e3dd7e-f3fe-4eaa-b1fc-b0980ab1e8fe",
   "metadata": {},
   "outputs": [],
   "source": [
    "question 3- Yes, Python is a case-sensitive language, i.e., it treats uppercase and lowercase characters differently. \n",
    "This is important when using  identifiers."
   ]
  },
  {
   "cell_type": "code",
   "execution_count": null,
   "id": "56c6bef4-27c0-47be-b35b-8cc612c0ce64",
   "metadata": {},
   "outputs": [],
   "source": [
    "question 4- The Files with the . py extension contain the Python source code."
   ]
  },
  {
   "cell_type": "code",
   "execution_count": null,
   "id": "4c9080cb-9770-43df-84a4-fcbefb1c044b",
   "metadata": {},
   "outputs": [],
   "source": [
    "question 5- Python is an interpreted language"
   ]
  },
  {
   "cell_type": "code",
   "execution_count": null,
   "id": "ccf1286c-3891-44ae-9f4e-cd444f68c32e",
   "metadata": {},
   "outputs": [],
   "source": [
    "question 6- Indentation is used to define a block of code in python. Braces {} are also used to define a block of code in python."
   ]
  },
  {
   "cell_type": "code",
   "execution_count": null,
   "id": "cf5b1831-8f88-48f8-ae87-0535a30eadb5",
   "metadata": {},
   "outputs": [],
   "source": [
    "question 7- Hash character(#) is used to comment the line in the Python program."
   ]
  },
  {
   "cell_type": "code",
   "execution_count": 5,
   "id": "0a0e5356-3f23-429e-b872-b40dde639196",
   "metadata": {},
   "outputs": [
    {
     "name": "stdout",
     "output_type": "stream",
     "text": [
      "Current Python Version- 3.10.8 | packaged by conda-forge | (main, Nov 22 2022, 08:26:04) [GCC 10.4.0]\n",
      "Current Python Version- 3.10.8\n"
     ]
    }
   ],
   "source": [
    "#question 8-- these function can help us find the version of python\n",
    "import sys\n",
    "print(\"Current Python Version-\",sys.version)\n",
    "from platform import python_version\n",
    "print(\"Current Python Version-\", python_version())"
   ]
  },
  {
   "cell_type": "code",
   "execution_count": null,
   "id": "00b1142e-57fe-4d57-bee0-3d834c8910e4",
   "metadata": {},
   "outputs": [],
   "source": [
    "question 9- python supports the creation of anonymous functions at runtime using a construct called 'lambda'."
   ]
  },
  {
   "cell_type": "code",
   "execution_count": null,
   "id": "c94f7412-eb89-44a0-a57f-e19658896d1b",
   "metadata": {},
   "outputs": [],
   "source": [
    "question 10- pip stands for \"preferred installer program\""
   ]
  },
  {
   "cell_type": "code",
   "execution_count": null,
   "id": "75a3a7f2-edb7-4e04-9c43-ff5f874ffcfb",
   "metadata": {},
   "outputs": [],
   "source": [
    "question 11-\n",
    "print( ) function.\n",
    "type( ) function.\n",
    "input( ) function.\n",
    "abs( ) function.\n",
    "pow( ) function.\n",
    "dir( ) function.\n",
    "sorted( ) function.\n",
    "max( ) function.\n",
    "these are some of the built in functions in python."
   ]
  },
  {
   "cell_type": "code",
   "execution_count": null,
   "id": "db091181-5763-4f97-b962-ad4fa0a26c86",
   "metadata": {},
   "outputs": [],
   "source": [
    "question 12-An identifier can have a maximum length of 79 characters in Python,"
   ]
  },
  {
   "cell_type": "code",
   "execution_count": null,
   "id": "8f4d3c03-09a1-4401-9b5a-c19ab0da2843",
   "metadata": {},
   "outputs": [],
   "source": [
    "question 13- Python is a prominently used coding language and has various benefits. \n",
    "The major one are it is largely used by professional programmers and developers across a variety of fields, including Web Development\n",
    "and Machine Learning.\n",
    "Thus, learning Python provides an upper hand to the programmer."
   ]
  },
  {
   "cell_type": "code",
   "execution_count": null,
   "id": "6b6b71e0-a220-4f51-84a4-680d5a5a12e9",
   "metadata": {},
   "outputs": [],
   "source": [
    "question 14-Memory management in Python involves a private heap containing all Python objects and data structures. \n",
    "The management of this private heap is ensured internally by the Python memory manager.\n"
   ]
  },
  {
   "cell_type": "code",
   "execution_count": null,
   "id": "35c8dbab-ab72-4d29-889f-d1e9ec2dffac",
   "metadata": {},
   "outputs": [],
   "source": [
    "question 15- Python can be downloaded from https://www.python.org/downloads/ i.e their official website for the required device. \n",
    "In order to set the PATH variable, In the section entitled User Variables, double-click on the entry that says Path. \n",
    "Another window will pop up showing a list of paths. Click the New button and paste the path to your Python executable there."
   ]
  },
  {
   "cell_type": "code",
   "execution_count": null,
   "id": "26c89385-6163-45f1-9c81-93b366ad4beb",
   "metadata": {},
   "outputs": [],
   "source": [
    "question 16- Indentation is mandatory in python to define the blocks of statements."
   ]
  }
 ],
 "metadata": {
  "kernelspec": {
   "display_name": "Python 3 (ipykernel)",
   "language": "python",
   "name": "python3"
  },
  "language_info": {
   "codemirror_mode": {
    "name": "ipython",
    "version": 3
   },
   "file_extension": ".py",
   "mimetype": "text/x-python",
   "name": "python",
   "nbconvert_exporter": "python",
   "pygments_lexer": "ipython3",
   "version": "3.10.8"
  }
 },
 "nbformat": 4,
 "nbformat_minor": 5
}
